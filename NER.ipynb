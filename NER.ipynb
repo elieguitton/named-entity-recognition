{
 "cells": [
  {
   "cell_type": "markdown",
   "metadata": {},
   "source": [
    "# TP1 - NER\n",
    "\n",
    "### En utilisant vos connaissances en programmation, codez un système NER qui reconnaît les noms de personnes (PERSON) et les lieux (LOCATION) à partir de l'ensemble de données fourni (europarl)."
   ]
  },
  {
   "cell_type": "markdown",
   "metadata": {},
   "source": [
    "#### 1 - On récupère toutes nos données"
   ]
  },
  {
   "cell_type": "code",
   "execution_count": 1,
   "metadata": {},
   "outputs": [
    {
     "name": "stderr",
     "output_type": "stream",
     "text": [
      "[nltk_data] Downloading package stopwords to D:\\nltk_data...\n",
      "[nltk_data]   Package stopwords is already up-to-date!\n"
     ]
    }
   ],
   "source": [
    "import os\n",
    "import glob\n",
    "import json\n",
    "import re\n",
    "import nltk\n",
    "\n",
    "from nltk.corpus import stopwords\n",
    "nltk.download('stopwords')\n",
    "\n",
    "def getListOfFiles(dirName):\n",
    "    # create a list of file and sub directories \n",
    "    # names in the given directory \n",
    "    listOfFile = os.listdir(dirName)\n",
    "    allFiles = list()\n",
    "    # Iterate over all the entries\n",
    "    for entry in listOfFile:\n",
    "        # Create full path\n",
    "        fullPath = os.path.join(dirName, entry)\n",
    "        # If entry is a directory then get the list of files in this directory \n",
    "        if os.path.isdir(fullPath):\n",
    "            allFiles = allFiles + getListOfFiles(fullPath)\n",
    "        else:\n",
    "            fullPath = fullPath.rsplit('/', 1)[-1]\n",
    "            allFiles.append(fullPath)\n",
    "                \n",
    "    return allFiles\n",
    "\n",
    "def readFile(filename):\n",
    "    with open(filename, \"r\", encoding=\"utf8\") as f:\n",
    "        return f.read()\n",
    "\n",
    "files = getListOfFiles('europarl')"
   ]
  },
  {
   "cell_type": "markdown",
   "metadata": {},
   "source": [
    "#### 2 - Division du texte en phrases et en mots (c'est-à-dire en jetons)"
   ]
  },
  {
   "cell_type": "code",
   "execution_count": 2,
   "metadata": {},
   "outputs": [],
   "source": [
    "# 1 - On enlève la ponctuation\n",
    "def enlever_ponctuation(chaine):\n",
    "    return re.sub(r\"[^\\w\\s]\", \" \", chaine)\n",
    "\n",
    "# 2 - On enlève les mots si ils sont dans la liste des mots vides\n",
    "def enlever_mots_vides(chaine):\n",
    "    return ' '.join([mot for mot in chaine.split() if mot not in stopwords.words(\"french\")])\n",
    "\n",
    "# 3 - Tokenisation des mots, on les sépare en mots\n",
    "def tokenisation(chaine):\n",
    "    return chaine.split()\n",
    "\n",
    "# On crée une fonction qui va appliquer les 3 fonctions précédentes\n",
    "def preprocess(chaine):\n",
    "    return tokenisation(enlever_mots_vides(enlever_ponctuation(chaine)))"
   ]
  },
  {
   "cell_type": "markdown",
   "metadata": {},
   "source": [
    "### 3 - Repérer les localisations et les personnes\n",
    "Résultat :\n",
    "Les phrases sont séparées par une nouvelle ligne, et chaque ligne contient un mot et son libellé : O s'il n'est pas contenu dans une entité, B-PER s'il fait partie d'une entité et qu'il apparaît au début du nom, et I-PER s'il se trouve à l'intérieur de l'entité ou à la fin de l'entité.\n"
   ]
  },
  {
   "cell_type": "code",
   "execution_count": 20,
   "metadata": {},
   "outputs": [
    {
     "data": {
      "text/plain": [
       "False"
      ]
     },
     "execution_count": 20,
     "metadata": {},
     "output_type": "execute_result"
    }
   ],
   "source": [
    "import requests\n",
    "\n",
    "LOCATIONS = \"https://nominatim.openstreetmap.org\"\n",
    "\n",
    "# On interroge une API qui contient toutes les localisations du monde\n",
    "\n",
    "def est_localisation(mot):\n",
    "    if mot[0].isupper() == False:\n",
    "        return False\n",
    "    response = requests.get(LOCATIONS + \"/search?q=\"+ mot + \"&format=json\")\n",
    "    if response.status_code == 200:\n",
    "        for data in response.json():\n",
    "            if data[\"importance\"] > 0.5:\n",
    "                return True\n",
    "            return False    \n",
    "    return False\n"
   ]
  },
  {
   "cell_type": "code",
   "execution_count": null,
   "metadata": {},
   "outputs": [],
   "source": [
    "locations = ['Londres', 'Paris']\n",
    "persons = ['Elie', 'Jean']\n",
    "\n",
    "# API that stores every firstnames and lastnames of the world\n",
    "NAMES = \"https://api.genderize.io\"\n",
    "\n",
    "# Ask the api if \"Adrien\" is a name\n",
    "def est_nom(mot):\n",
    "    response = requests.get(NAMES + \"?name=\" + mot +  \"&format=json\")\n",
    "    if response.status_code == 200:\n",
    "        for data in response.json():\n",
    "            if data[\"count\"] > 0:\n",
    "                return True\n",
    "            return False\n",
    "    return False\n",
    "\n",
    "\n",
    "\n",
    "\n",
    "# Name Entity recognition (NER)\n",
    "# Algorithm for a name entity recognition\n",
    "# Input: a list of words\n",
    "# Output: a list of tuples (word, tag)\n",
    "def ner(words):\n",
    "    tags = []\n",
    "    for word in words:\n",
    "        if word in locations:\n",
    "            tags.append((word, \" B-LOC\"))\n",
    "        elif word in persons:\n",
    "            if len(tags) > 0 and tags[-1][1] == \" I-PER\":\n",
    "                tags.append((word, \" I-PER\"))\n",
    "            tags.append((word, \"B-PER\"))\n",
    "        else:\n",
    "            tags.append((word, \"O\"))\n",
    "    return tags"
   ]
  }
 ],
 "metadata": {
  "kernelspec": {
   "display_name": "Python 3.9.12 64-bit",
   "language": "python",
   "name": "python3"
  },
  "language_info": {
   "codemirror_mode": {
    "name": "ipython",
    "version": 3
   },
   "file_extension": ".py",
   "mimetype": "text/x-python",
   "name": "python",
   "nbconvert_exporter": "python",
   "pygments_lexer": "ipython3",
   "version": "3.9.12"
  },
  "orig_nbformat": 4,
  "vscode": {
   "interpreter": {
    "hash": "f6c8f846148a3e4d140e6ddf63c190cff559dcf260a4a21539f0978f2b58638c"
   }
  }
 },
 "nbformat": 4,
 "nbformat_minor": 2
}
